{
 "cells": [
  {
   "cell_type": "code",
   "execution_count": 1,
   "id": "e6d6c029-df62-4028-936c-c8f00ccf1255",
   "metadata": {},
   "outputs": [],
   "source": [
    "import pandas as pd\n",
    "import matplotlib.pyplot as plt\n",
    "import cbor2"
   ]
  },
  {
   "cell_type": "code",
   "execution_count": 2,
   "id": "15b147bf-15e9-4fc9-83b4-1092e78e5212",
   "metadata": {},
   "outputs": [],
   "source": [
    "# Read CBOR file\n",
    "with open(\"../data/2025-07-11_05-39_noaa_apt_137MHz/product.cbor\", \"rb\") as f:\n",
    "    product = cbor2.load(f)"
   ]
  },
  {
   "cell_type": "code",
   "execution_count": null,
   "id": "4e9f8e41-48d3-49b9-ab24-9eab526ac557",
   "metadata": {},
   "outputs": [],
   "source": []
  }
 ],
 "metadata": {
  "kernelspec": {
   "display_name": "Python 3 (ipykernel)",
   "language": "python",
   "name": "python3"
  },
  "language_info": {
   "codemirror_mode": {
    "name": "ipython",
    "version": 3
   },
   "file_extension": ".py",
   "mimetype": "text/x-python",
   "name": "python",
   "nbconvert_exporter": "python",
   "pygments_lexer": "ipython3",
   "version": "3.10.16"
  }
 },
 "nbformat": 4,
 "nbformat_minor": 5
}
