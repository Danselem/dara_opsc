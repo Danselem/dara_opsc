{
 "cells": [
  {
   "cell_type": "code",
   "execution_count": 1,
   "id": "44d0bed8-ce3a-42ea-978d-547cdc1a2f8a",
   "metadata": {},
   "outputs": [],
   "source": [
    "import leafmap\n",
    "# Switch to folium backend if ipyleaflet isn't working\n",
    "# leafmap.maplib = \"folium\""
   ]
  },
  {
   "cell_type": "code",
   "execution_count": 2,
   "id": "32cb878b-2acd-4697-a66b-057702f3c68e",
   "metadata": {},
   "outputs": [
    {
     "data": {
      "application/vnd.jupyter.widget-view+json": {
       "model_id": "58602385d4c8409da4c86839be8a43f7",
       "version_major": 2,
       "version_minor": 0
      },
      "text/plain": [
       "Map(center=[20, 0], controls=(ZoomControl(options=['position', 'zoom_in_text', 'zoom_in_title', 'zoom_out_text…"
      ]
     },
     "execution_count": 2,
     "metadata": {},
     "output_type": "execute_result"
    }
   ],
   "source": [
    "m = leafmap.Map()\n",
    "m"
   ]
  },
  {
   "cell_type": "markdown",
   "id": "8f726b43-7d08-4c28-98fe-77a140cc61cf",
   "metadata": {},
   "source": [
    "## Customizing the Map\n",
    "You can customize the map's center, zoom level, and height. The center takes a tuple of latitude and longitude, zoom is an integer, and height specifies the map height in pixels. The example below centers the map on the U.S. with a zoom level of 4 and a height of 600 pixels:"
   ]
  },
  {
   "cell_type": "code",
   "execution_count": 3,
   "id": "ec0d8506-55f3-46b0-b3cc-b4f3b6a7ae05",
   "metadata": {},
   "outputs": [
    {
     "data": {
      "application/vnd.jupyter.widget-view+json": {
       "model_id": "5970ec751a8e4e8eb7fb81fe7b2091d7",
       "version_major": 2,
       "version_minor": 0
      },
      "text/plain": [
       "Map(center=[-32.2968, 26.4194], controls=(ZoomControl(options=['position', 'zoom_in_text', 'zoom_in_title', 'z…"
      ]
     },
     "execution_count": 3,
     "metadata": {},
     "output_type": "execute_result"
    }
   ],
   "source": [
    "ec_lat, ec_long = -32.2968, 26.4194\n",
    "m = leafmap.Map(center=[ec_lat, ec_long], zoom=8, height=\"400px\", engine=\"folium\")\n",
    "m"
   ]
  },
  {
   "cell_type": "markdown",
   "id": "ab894fb3-7e43-42dc-93e6-8d423f592f42",
   "metadata": {},
   "source": [
    "## Adding Search Control\n",
    "To add a search control to the map, use the m.add_search_control() method. The search control allows users to search for places and zoom to them. The example below adds a search control to the map:"
   ]
  },
  {
   "cell_type": "code",
   "execution_count": 4,
   "id": "4aa6c388-d4bd-4cbd-9f65-9c0a12ccb1f2",
   "metadata": {},
   "outputs": [
    {
     "data": {
      "application/vnd.jupyter.widget-view+json": {
       "model_id": "5970ec751a8e4e8eb7fb81fe7b2091d7",
       "version_major": 2,
       "version_minor": 0
      },
      "text/plain": [
       "Map(bottom=39186.0, center=[-32.2968, 26.4194], controls=(ZoomControl(options=['position', 'zoom_in_text', 'zo…"
      ]
     },
     "execution_count": 4,
     "metadata": {},
     "output_type": "execute_result"
    }
   ],
   "source": [
    "url = \"https://nominatim.openstreetmap.org/search?format=json&q={s}\"\n",
    "m.add_search_control(url, zoom=10, position=\"topleft\")\n",
    "m"
   ]
  },
  {
   "cell_type": "code",
   "execution_count": 5,
   "id": "cf5fc758-6655-4334-89ac-2077aa8c6d19",
   "metadata": {},
   "outputs": [
    {
     "data": {
      "application/vnd.jupyter.widget-view+json": {
       "model_id": "5970ec751a8e4e8eb7fb81fe7b2091d7",
       "version_major": 2,
       "version_minor": 0
      },
      "text/plain": [
       "Map(bottom=39243.0, center=[-32.56070352232515, 27.671813964843754], controls=(ZoomControl(options=['position'…"
      ]
     },
     "execution_count": 5,
     "metadata": {},
     "output_type": "execute_result"
    }
   ],
   "source": [
    "m.add_basemap(\"OpenTopoMap\")\n",
    "m"
   ]
  },
  {
   "cell_type": "code",
   "execution_count": 6,
   "id": "bd54e32e-064b-4188-a3d4-4cecb8a82c62",
   "metadata": {},
   "outputs": [
    {
     "data": {
      "application/vnd.jupyter.widget-view+json": {
       "model_id": "5970ec751a8e4e8eb7fb81fe7b2091d7",
       "version_major": 2,
       "version_minor": 0
      },
      "text/plain": [
       "Map(bottom=39243.0, center=[-32.56070352232515, 27.671813964843754], controls=(ZoomControl(options=['position'…"
      ]
     },
     "execution_count": 6,
     "metadata": {},
     "output_type": "execute_result"
    }
   ],
   "source": [
    "m.add_tile_layer(\n",
    "    url=\"https://mt1.google.com/vt/lyrs=y&x={x}&y={y}&z={z}\",\n",
    "    name=\"Google Satellite\",\n",
    "    attribution=\"Google\",\n",
    ")\n",
    "m"
   ]
  },
  {
   "cell_type": "code",
   "execution_count": 7,
   "id": "1ec31901-3cba-4896-b86f-c455810772f0",
   "metadata": {},
   "outputs": [
    {
     "data": {
      "application/vnd.jupyter.widget-view+json": {
       "model_id": "5970ec751a8e4e8eb7fb81fe7b2091d7",
       "version_major": 2,
       "version_minor": 0
      },
      "text/plain": [
       "Map(bottom=625533.0, center=[-32.74714633655501, 27.772922515869144], controls=(ZoomControl(options=['position…"
      ]
     },
     "execution_count": 7,
     "metadata": {},
     "output_type": "execute_result"
    }
   ],
   "source": [
    "url = \"https://imagery.nationalmap.gov/arcgis/services/USGSNAIPImagery/ImageServer/WMSServer?\"\n",
    "m.add_wms_layer(\n",
    "    url=url,\n",
    "    layers=\"USGSNAIPImagery:FalseColorComposite\",\n",
    "    name=\"NAIP\",\n",
    "    attribution=\"USGS\",\n",
    "    format=\"image/png\",\n",
    "    shown=True,\n",
    ")\n",
    "m"
   ]
  },
  {
   "cell_type": "markdown",
   "id": "a5f661e6-6b7e-49cc-be23-e8f33aa3e577",
   "metadata": {},
   "source": [
    "## Adding a Legend to a Map\n",
    "To provide better context for the data layers, you can add a legend to your map. In this example, we add a WMS layer displaying the 2021 NLCD land cover data and a corresponding legend to explain the land cover types:"
   ]
  },
  {
   "cell_type": "code",
   "execution_count": 8,
   "id": "747f7974-d3e5-4d21-be86-3090419a40a1",
   "metadata": {},
   "outputs": [
    {
     "data": {
      "application/vnd.jupyter.widget-view+json": {
       "model_id": "5970ec751a8e4e8eb7fb81fe7b2091d7",
       "version_major": 2,
       "version_minor": 0
      },
      "text/plain": [
       "Map(bottom=625533.0, center=[-32.74714633655501, 27.772922515869144], controls=(ZoomControl(options=['position…"
      ]
     },
     "execution_count": 8,
     "metadata": {},
     "output_type": "execute_result"
    }
   ],
   "source": [
    "m.add_basemap(\"Esri.WorldImagery\")\n",
    "url = \"https://www.mrlc.gov/geoserver/mrlc_display/NLCD_2021_Land_Cover_L48/wms?\"\n",
    "m.add_wms_layer(\n",
    "    url=url,\n",
    "    layers=\"NLCD_2021_Land_Cover_L48\",\n",
    "    name=\"NLCD 2021\",\n",
    "    attribution=\"MRLC\",\n",
    "    format=\"image/png\",\n",
    "    shown=True,\n",
    ")\n",
    "m.add_legend(title=\"NLCD Land Cover Type\", builtin_legend=\"NLCD\")\n",
    "m"
   ]
  },
  {
   "cell_type": "markdown",
   "id": "2225bf97-290f-43eb-8f4e-7cb2bc6734dc",
   "metadata": {},
   "source": [
    "## Adding a Colorbar to Visualize Data\n",
    "If you need to visualize continuous data like elevation, you can add a colorbar to the map. The example below shows how to add a colorbar with a terrain colormap for elevation, ranging from 0 to 4000 meters:"
   ]
  },
  {
   "cell_type": "code",
   "execution_count": 9,
   "id": "3665a20d-0954-4f53-9230-070dfc4c6640",
   "metadata": {},
   "outputs": [
    {
     "name": "stdout",
     "output_type": "stream",
     "text": [
      "OpenTopoMap has been already added before.\n"
     ]
    },
    {
     "data": {
      "application/vnd.jupyter.widget-view+json": {
       "model_id": "5970ec751a8e4e8eb7fb81fe7b2091d7",
       "version_major": 2,
       "version_minor": 0
      },
      "text/plain": [
       "Map(bottom=19695.0, center=[-32.31499127724556, 28.767700195312504], controls=(ZoomControl(options=['position'…"
      ]
     },
     "execution_count": 9,
     "metadata": {},
     "output_type": "execute_result"
    }
   ],
   "source": [
    "m.add_basemap(\"OpenTopoMap\")\n",
    "m.add_colormap(\n",
    "    \"terrain\",\n",
    "    label=\"Elevation\",\n",
    "    orientation=\"horizontal\",\n",
    "    vmin=0,\n",
    "    vmax=4000,\n",
    ")\n",
    "m"
   ]
  },
  {
   "cell_type": "markdown",
   "id": "cb69a3bb-394b-43e5-afa8-e561d65cf789",
   "metadata": {},
   "source": [
    "## Visualizing Polylines\n",
    "Polyline visualization is useful for displaying linear features such as roads or pipelines. In this example, a GeoJSON file containing submarine cable lines is added to the map.\n",
    "\n",
    "**Note:** This requires the `fiona` package to be installed."
   ]
  },
  {
   "cell_type": "code",
   "execution_count": 31,
   "id": "56b845ef-8ee0-4d41-a00e-017d5f866be7",
   "metadata": {},
   "outputs": [
    {
     "name": "stderr",
     "output_type": "stream",
     "text": [
      "Skipping field coordinates: unsupported OGR type: 3\n"
     ]
    },
    {
     "data": {
      "application/vnd.jupyter.widget-view+json": {
       "model_id": "fbc7e858d7754da98c8386c7600fac08",
       "version_major": 2,
       "version_minor": 0
      },
      "text/plain": [
       "Map(bottom=39493.0, center=[-33.252469795892, 26.817626953125004], controls=(ZoomControl(options=['position', …"
      ]
     },
     "execution_count": 31,
     "metadata": {},
     "output_type": "execute_result"
    }
   ],
   "source": [
    "data = \"https://github.com/opengeos/datasets/releases/download/vector/cables.geojson\"\n",
    "m.add_vector(data, layer_name=\"Cable lines\", info_mode=\"on_hover\")\n",
    "m"
   ]
  },
  {
   "cell_type": "markdown",
   "id": "06888eee-9957-4d9c-a9e7-cc5949857245",
   "metadata": {},
   "source": [
    "## Customizing Polyline Styles\n",
    "You can further customize polylines with a style callback function. This example dynamically changes the color and weight of each polyline based on its properties:"
   ]
  },
  {
   "cell_type": "code",
   "execution_count": 32,
   "id": "ae2eed0e-5537-433c-8c2d-67f531931514",
   "metadata": {},
   "outputs": [
    {
     "name": "stderr",
     "output_type": "stream",
     "text": [
      "Skipping field coordinates: unsupported OGR type: 3\n"
     ]
    },
    {
     "data": {
      "application/vnd.jupyter.widget-view+json": {
       "model_id": "fbc7e858d7754da98c8386c7600fac08",
       "version_major": 2,
       "version_minor": 0
      },
      "text/plain": [
       "Map(bottom=19913.0, center=[-33.40393120023469, 29.718017578125004], controls=(ZoomControl(options=['position'…"
      ]
     },
     "execution_count": 32,
     "metadata": {},
     "output_type": "execute_result"
    }
   ],
   "source": [
    "m.add_basemap(\"CartoDB.DarkMatter\")\n",
    "data = \"https://github.com/opengeos/datasets/releases/download/vector/cables.geojson\"\n",
    "callback = lambda feat: {\"color\": feat[\"properties\"][\"color\"], \"weight\": 1}\n",
    "m.add_vector(data, layer_name=\"Cable lines\", style_callback=callback)\n",
    "m"
   ]
  },
  {
   "cell_type": "code",
   "execution_count": null,
   "id": "a54f5465-e66e-4113-b6c1-4938be5bbe8f",
   "metadata": {},
   "outputs": [],
   "source": []
  }
 ],
 "metadata": {
  "kernelspec": {
   "display_name": "Python 3 (ipykernel)",
   "language": "python",
   "name": "python3"
  },
  "language_info": {
   "codemirror_mode": {
    "name": "ipython",
    "version": 3
   },
   "file_extension": ".py",
   "mimetype": "text/x-python",
   "name": "python",
   "nbconvert_exporter": "python",
   "pygments_lexer": "ipython3",
   "version": "3.10.16"
  }
 },
 "nbformat": 4,
 "nbformat_minor": 5
}
