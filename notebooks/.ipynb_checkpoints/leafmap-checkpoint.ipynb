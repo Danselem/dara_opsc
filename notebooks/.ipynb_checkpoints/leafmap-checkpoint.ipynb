{
 "cells": [
  {
   "cell_type": "code",
   "execution_count": 11,
   "id": "44d0bed8-ce3a-42ea-978d-547cdc1a2f8a",
   "metadata": {},
   "outputs": [],
   "source": [
    "import leafmap\n",
    "# Switch to folium backend if ipyleaflet isn't working\n",
    "leafmap.maplib = \"folium\""
   ]
  },
  {
   "cell_type": "code",
   "execution_count": 12,
   "id": "32cb878b-2acd-4697-a66b-057702f3c68e",
   "metadata": {},
   "outputs": [
    {
     "data": {
      "application/vnd.jupyter.widget-view+json": {
       "model_id": "7e50dac961114a01b120fad6f4087a3a",
       "version_major": 2,
       "version_minor": 0
      },
      "text/plain": [
       "Map(center=[20, 0], controls=(ZoomControl(options=['position', 'zoom_in_text', 'zoom_in_title', 'zoom_out_text…"
      ]
     },
     "execution_count": 12,
     "metadata": {},
     "output_type": "execute_result"
    }
   ],
   "source": [
    "m = leafmap.Map()\n",
    "m"
   ]
  },
  {
   "cell_type": "code",
   "execution_count": 3,
   "id": "ec0d8506-55f3-46b0-b3cc-b4f3b6a7ae05",
   "metadata": {},
   "outputs": [
    {
     "data": {
      "application/vnd.jupyter.widget-view+json": {
       "model_id": "22ed4385b17e4bf0a00937500033d26c",
       "version_major": 2,
       "version_minor": 0
      },
      "text/plain": [
       "Map(center=[32.2968, 26.4194], controls=(ZoomControl(options=['position', 'zoom_in_text', 'zoom_in_title', 'zo…"
      ]
     },
     "execution_count": 3,
     "metadata": {},
     "output_type": "execute_result"
    }
   ],
   "source": [
    "ec_lat, ec_long = 32.2968, 26.4194\n",
    "m = leafmap.Map(center=(ec_lat, ec_long), zoom=4, height=\"600px\")\n",
    "m"
   ]
  },
  {
   "cell_type": "code",
   "execution_count": 7,
   "id": "1d0157c3-58b2-4f26-b558-1ebbd518acfd",
   "metadata": {},
   "outputs": [
    {
     "data": {
      "application/vnd.jupyter.widget-view+json": {
       "model_id": "9e2188a8ebed49a0ba99ea8e65a73869",
       "version_major": 2,
       "version_minor": 0
      },
      "text/plain": [
       "Map(center=[32.2968, 26.4194], crs={'name': 'EPSG3857', 'custom': False}, default_style=MapStyle(), dragging_s…"
      ]
     },
     "execution_count": 7,
     "metadata": {},
     "output_type": "execute_result"
    }
   ],
   "source": [
    "m = leafmap.Map(\n",
    "    center=(ec_lat, ec_long),\n",
    "    zoom_control=False,\n",
    "    draw_control=False,\n",
    "    scale_control=False,\n",
    "    fullscreen_control=False,\n",
    "    attribution_control=False,\n",
    "    toolbar_control=False,\n",
    ")\n",
    "m"
   ]
  },
  {
   "cell_type": "code",
   "execution_count": 8,
   "id": "4aa6c388-d4bd-4cbd-9f65-9c0a12ccb1f2",
   "metadata": {},
   "outputs": [],
   "source": [
    "url = \"https://nominatim.openstreetmap.org/search?format=json&q={s}\"\n",
    "m.add_search_control(url, zoom=10, position=\"topleft\")"
   ]
  },
  {
   "cell_type": "code",
   "execution_count": 9,
   "id": "cf5fc758-6655-4334-89ac-2077aa8c6d19",
   "metadata": {},
   "outputs": [
    {
     "data": {
      "application/vnd.jupyter.widget-view+json": {
       "model_id": "9e2188a8ebed49a0ba99ea8e65a73869",
       "version_major": 2,
       "version_minor": 0
      },
      "text/plain": [
       "Map(center=[32.2968, 26.4194], controls=(SearchControl(found_style={'fillColor': '#3f0', 'color': '#0f0'}, mar…"
      ]
     },
     "execution_count": 9,
     "metadata": {},
     "output_type": "execute_result"
    }
   ],
   "source": [
    "m.add_basemap(\"OpenTopoMap\")\n",
    "m"
   ]
  },
  {
   "cell_type": "code",
   "execution_count": 10,
   "id": "bd54e32e-064b-4188-a3d4-4cecb8a82c62",
   "metadata": {},
   "outputs": [
    {
     "data": {
      "application/vnd.jupyter.widget-view+json": {
       "model_id": "9e2188a8ebed49a0ba99ea8e65a73869",
       "version_major": 2,
       "version_minor": 0
      },
      "text/plain": [
       "Map(center=[32.2968, 26.4194], controls=(SearchControl(found_style={'fillColor': '#3f0', 'color': '#0f0'}, mar…"
      ]
     },
     "execution_count": 10,
     "metadata": {},
     "output_type": "execute_result"
    }
   ],
   "source": [
    "m.add_tile_layer(\n",
    "    url=\"https://mt1.google.com/vt/lyrs=y&x={x}&y={y}&z={z}\",\n",
    "    name=\"Google Satellite\",\n",
    "    attribution=\"Google\",\n",
    ")\n",
    "m"
   ]
  },
  {
   "cell_type": "code",
   "execution_count": null,
   "id": "1ec31901-3cba-4896-b86f-c455810772f0",
   "metadata": {},
   "outputs": [],
   "source": []
  }
 ],
 "metadata": {
  "kernelspec": {
   "display_name": "Python 3 (ipykernel)",
   "language": "python",
   "name": "python3"
  },
  "language_info": {
   "codemirror_mode": {
    "name": "ipython",
    "version": 3
   },
   "file_extension": ".py",
   "mimetype": "text/x-python",
   "name": "python",
   "nbconvert_exporter": "python",
   "pygments_lexer": "ipython3",
   "version": "3.10.16"
  }
 },
 "nbformat": 4,
 "nbformat_minor": 5
}
